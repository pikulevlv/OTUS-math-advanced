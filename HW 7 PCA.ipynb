{
 "cells": [
  {
   "cell_type": "markdown",
   "metadata": {},
   "source": [
    "Даны две выборки, обучающая и тестовая: \n",
    "\n",
    "http://work.caltech.edu/data/in.dta \n",
    "\n",
    "http://work.caltech.edu/data/out.dta\n"
   ]
  },
  {
   "cell_type": "markdown",
   "metadata": {},
   "source": [
    "Применить нелинейную трансформацию:\n",
    "\n",
    "$$\\phi(x1, x2) = (1, x1, x2, x1^2, x2^2, x1x2, |x1+x2|, |x1-x2|)$$"
   ]
  },
  {
   "cell_type": "code",
   "execution_count": 364,
   "metadata": {},
   "outputs": [],
   "source": [
    "# обычные импорты\n",
    "%matplotlib inline\n",
    "import matplotlib.pyplot as plt\n",
    "from mpl_toolkits import mplot3d\n",
    "import seaborn as sns; sns.set()\n",
    "import pandas as pd\n",
    "import numpy as np"
   ]
  },
  {
   "cell_type": "code",
   "execution_count": 365,
   "metadata": {},
   "outputs": [],
   "source": [
    "# отключим надоедливые оповещения\n",
    "import warnings\n",
    "warnings.filterwarnings(\"ignore\")"
   ]
  },
  {
   "cell_type": "code",
   "execution_count": 366,
   "metadata": {},
   "outputs": [],
   "source": [
    "# прочитаем данные\n",
    "data_in = pd.read_csv(r\"in.dta.txt\", encoding='cp1251', \n",
    "                      sep =';', delimiter='  ', header=None, \n",
    "                      names=['x1', 'x2', 'y'], dtype=None, na_values=None)\n",
    "data_out = pd.read_csv(r\"out.dta.txt\", encoding='cp1251', \n",
    "                       sep =';', delimiter='  ', header=None, \n",
    "                       names=['x1', 'x2', 'y'])"
   ]
  },
  {
   "cell_type": "code",
   "execution_count": 367,
   "metadata": {
    "scrolled": true
   },
   "outputs": [
    {
     "data": {
      "text/html": [
       "<div>\n",
       "<style scoped>\n",
       "    .dataframe tbody tr th:only-of-type {\n",
       "        vertical-align: middle;\n",
       "    }\n",
       "\n",
       "    .dataframe tbody tr th {\n",
       "        vertical-align: top;\n",
       "    }\n",
       "\n",
       "    .dataframe thead th {\n",
       "        text-align: right;\n",
       "    }\n",
       "</style>\n",
       "<table border=\"1\" class=\"dataframe\">\n",
       "  <thead>\n",
       "    <tr style=\"text-align: right;\">\n",
       "      <th></th>\n",
       "      <th>x1</th>\n",
       "      <th>x2</th>\n",
       "      <th>y</th>\n",
       "    </tr>\n",
       "  </thead>\n",
       "  <tbody>\n",
       "    <tr>\n",
       "      <th>0</th>\n",
       "      <td>-0.779470</td>\n",
       "      <td>0.838221</td>\n",
       "      <td>1.0</td>\n",
       "    </tr>\n",
       "    <tr>\n",
       "      <th>1</th>\n",
       "      <td>0.155635</td>\n",
       "      <td>0.895377</td>\n",
       "      <td>1.0</td>\n",
       "    </tr>\n",
       "    <tr>\n",
       "      <th>2</th>\n",
       "      <td>-0.059908</td>\n",
       "      <td>-0.717780</td>\n",
       "      <td>1.0</td>\n",
       "    </tr>\n",
       "    <tr>\n",
       "      <th>3</th>\n",
       "      <td>0.207596</td>\n",
       "      <td>0.758933</td>\n",
       "      <td>1.0</td>\n",
       "    </tr>\n",
       "    <tr>\n",
       "      <th>4</th>\n",
       "      <td>-0.195983</td>\n",
       "      <td>-0.375487</td>\n",
       "      <td>-1.0</td>\n",
       "    </tr>\n",
       "  </tbody>\n",
       "</table>\n",
       "</div>"
      ],
      "text/plain": [
       "         x1        x2    y\n",
       "0 -0.779470  0.838221  1.0\n",
       "1  0.155635  0.895377  1.0\n",
       "2 -0.059908 -0.717780  1.0\n",
       "3  0.207596  0.758933  1.0\n",
       "4 -0.195983 -0.375487 -1.0"
      ]
     },
     "execution_count": 367,
     "metadata": {},
     "output_type": "execute_result"
    }
   ],
   "source": [
    "data_in.head()"
   ]
  },
  {
   "cell_type": "code",
   "execution_count": 368,
   "metadata": {
    "scrolled": false
   },
   "outputs": [
    {
     "name": "stdout",
     "output_type": "stream",
     "text": [
      "<class 'pandas.core.frame.DataFrame'>\n",
      "RangeIndex: 35 entries, 0 to 34\n",
      "Data columns (total 3 columns):\n",
      "x1    35 non-null float64\n",
      "x2    35 non-null float64\n",
      "y     35 non-null float64\n",
      "dtypes: float64(3)\n",
      "memory usage: 920.0 bytes\n"
     ]
    }
   ],
   "source": [
    "data_in.info()"
   ]
  },
  {
   "cell_type": "code",
   "execution_count": 369,
   "metadata": {},
   "outputs": [
    {
     "data": {
      "text/plain": [
       "(35, 3)"
      ]
     },
     "execution_count": 369,
     "metadata": {},
     "output_type": "execute_result"
    }
   ],
   "source": [
    "data_in.shape"
   ]
  },
  {
   "cell_type": "code",
   "execution_count": 370,
   "metadata": {
    "scrolled": true
   },
   "outputs": [],
   "source": [
    "# заменим значения y= -1 на 0\n",
    "data_in['y'][data_in['y']==-1.0] = data_in['y'][data_in['y']==-1.0].replace(-1.0, 0.00)"
   ]
  },
  {
   "cell_type": "code",
   "execution_count": 371,
   "metadata": {},
   "outputs": [
    {
     "data": {
      "text/html": [
       "<div>\n",
       "<style scoped>\n",
       "    .dataframe tbody tr th:only-of-type {\n",
       "        vertical-align: middle;\n",
       "    }\n",
       "\n",
       "    .dataframe tbody tr th {\n",
       "        vertical-align: top;\n",
       "    }\n",
       "\n",
       "    .dataframe thead th {\n",
       "        text-align: right;\n",
       "    }\n",
       "</style>\n",
       "<table border=\"1\" class=\"dataframe\">\n",
       "  <thead>\n",
       "    <tr style=\"text-align: right;\">\n",
       "      <th></th>\n",
       "      <th>x1</th>\n",
       "      <th>x2</th>\n",
       "      <th>y</th>\n",
       "    </tr>\n",
       "  </thead>\n",
       "  <tbody>\n",
       "    <tr>\n",
       "      <th>0</th>\n",
       "      <td>-0.106006</td>\n",
       "      <td>-0.081467</td>\n",
       "      <td>-1.0</td>\n",
       "    </tr>\n",
       "    <tr>\n",
       "      <th>1</th>\n",
       "      <td>0.177930</td>\n",
       "      <td>-0.345951</td>\n",
       "      <td>-1.0</td>\n",
       "    </tr>\n",
       "    <tr>\n",
       "      <th>2</th>\n",
       "      <td>0.102162</td>\n",
       "      <td>0.718258</td>\n",
       "      <td>1.0</td>\n",
       "    </tr>\n",
       "    <tr>\n",
       "      <th>3</th>\n",
       "      <td>0.694078</td>\n",
       "      <td>0.623397</td>\n",
       "      <td>-1.0</td>\n",
       "    </tr>\n",
       "    <tr>\n",
       "      <th>4</th>\n",
       "      <td>0.023541</td>\n",
       "      <td>0.727432</td>\n",
       "      <td>1.0</td>\n",
       "    </tr>\n",
       "  </tbody>\n",
       "</table>\n",
       "</div>"
      ],
      "text/plain": [
       "         x1        x2    y\n",
       "0 -0.106006 -0.081467 -1.0\n",
       "1  0.177930 -0.345951 -1.0\n",
       "2  0.102162  0.718258  1.0\n",
       "3  0.694078  0.623397 -1.0\n",
       "4  0.023541  0.727432  1.0"
      ]
     },
     "execution_count": 371,
     "metadata": {},
     "output_type": "execute_result"
    }
   ],
   "source": [
    "data_out.head()"
   ]
  },
  {
   "cell_type": "code",
   "execution_count": 372,
   "metadata": {},
   "outputs": [
    {
     "name": "stdout",
     "output_type": "stream",
     "text": [
      "<class 'pandas.core.frame.DataFrame'>\n",
      "RangeIndex: 250 entries, 0 to 249\n",
      "Data columns (total 3 columns):\n",
      "x1    250 non-null float64\n",
      "x2    250 non-null float64\n",
      "y     250 non-null float64\n",
      "dtypes: float64(3)\n",
      "memory usage: 5.9 KB\n"
     ]
    }
   ],
   "source": [
    "data_out.info()"
   ]
  },
  {
   "cell_type": "code",
   "execution_count": 373,
   "metadata": {},
   "outputs": [
    {
     "data": {
      "text/plain": [
       "(250, 3)"
      ]
     },
     "execution_count": 373,
     "metadata": {},
     "output_type": "execute_result"
    }
   ],
   "source": [
    "data_out.shape"
   ]
  },
  {
   "cell_type": "code",
   "execution_count": 374,
   "metadata": {},
   "outputs": [],
   "source": [
    "data_out['y'][data_out['y']==-1.0] = data_out['y'][data_out['y']==-1.0].replace(-1.0, 0.00)"
   ]
  },
  {
   "cell_type": "code",
   "execution_count": 375,
   "metadata": {},
   "outputs": [],
   "source": [
    "def transformation(ser_1, ser_2):\n",
    "    \"\"\"функция принимает на вход объект pd.Series\n",
    "    и возвращает список с массивами\"\"\"\n",
    "    ser_1 = list(ser_1)\n",
    "    ser_2 = list(ser_2)\n",
    "    transformed_list = []\n",
    "    for i,j in zip(ser_1, ser_2):\n",
    "        transformed_var = [1, i, j, i**2, j**2, \n",
    "                     i*j, abs(i+j), abs(i-j)]\n",
    "        transformed_list.append(transformed_var)\n",
    "        \n",
    "    return transformed_list"
   ]
  },
  {
   "cell_type": "code",
   "execution_count": 376,
   "metadata": {},
   "outputs": [
    {
     "data": {
      "text/html": [
       "<div>\n",
       "<style scoped>\n",
       "    .dataframe tbody tr th:only-of-type {\n",
       "        vertical-align: middle;\n",
       "    }\n",
       "\n",
       "    .dataframe tbody tr th {\n",
       "        vertical-align: top;\n",
       "    }\n",
       "\n",
       "    .dataframe thead th {\n",
       "        text-align: right;\n",
       "    }\n",
       "</style>\n",
       "<table border=\"1\" class=\"dataframe\">\n",
       "  <thead>\n",
       "    <tr style=\"text-align: right;\">\n",
       "      <th></th>\n",
       "      <th>x1</th>\n",
       "      <th>x2</th>\n",
       "      <th>y</th>\n",
       "      <th>transformed</th>\n",
       "    </tr>\n",
       "  </thead>\n",
       "  <tbody>\n",
       "    <tr>\n",
       "      <th>0</th>\n",
       "      <td>-0.779470</td>\n",
       "      <td>0.838221</td>\n",
       "      <td>1.0</td>\n",
       "      <td>[1, -0.77947021, 0.83822138, 0.607573808277444...</td>\n",
       "    </tr>\n",
       "    <tr>\n",
       "      <th>1</th>\n",
       "      <td>0.155635</td>\n",
       "      <td>0.895377</td>\n",
       "      <td>1.0</td>\n",
       "      <td>[1, 0.15563491, 0.89537743, 0.0242222252107080...</td>\n",
       "    </tr>\n",
       "    <tr>\n",
       "      <th>2</th>\n",
       "      <td>-0.059908</td>\n",
       "      <td>-0.717780</td>\n",
       "      <td>1.0</td>\n",
       "      <td>[1, -0.059907703, -0.71777995, 0.0035889328787...</td>\n",
       "    </tr>\n",
       "    <tr>\n",
       "      <th>3</th>\n",
       "      <td>0.207596</td>\n",
       "      <td>0.758933</td>\n",
       "      <td>1.0</td>\n",
       "      <td>[1, 0.20759636, 0.75893338, 0.0430962486852496...</td>\n",
       "    </tr>\n",
       "    <tr>\n",
       "      <th>4</th>\n",
       "      <td>-0.195983</td>\n",
       "      <td>-0.375487</td>\n",
       "      <td>0.0</td>\n",
       "      <td>[1, -0.19598312, -0.37548716, 0.03840938332493...</td>\n",
       "    </tr>\n",
       "  </tbody>\n",
       "</table>\n",
       "</div>"
      ],
      "text/plain": [
       "         x1        x2    y                                        transformed\n",
       "0 -0.779470  0.838221  1.0  [1, -0.77947021, 0.83822138, 0.607573808277444...\n",
       "1  0.155635  0.895377  1.0  [1, 0.15563491, 0.89537743, 0.0242222252107080...\n",
       "2 -0.059908 -0.717780  1.0  [1, -0.059907703, -0.71777995, 0.0035889328787...\n",
       "3  0.207596  0.758933  1.0  [1, 0.20759636, 0.75893338, 0.0430962486852496...\n",
       "4 -0.195983 -0.375487  0.0  [1, -0.19598312, -0.37548716, 0.03840938332493..."
      ]
     },
     "execution_count": 376,
     "metadata": {},
     "output_type": "execute_result"
    }
   ],
   "source": [
    "data_in['transformed'] = transformation(data_in['x1'], data_in['x2'])\n",
    "data_in.head()"
   ]
  },
  {
   "cell_type": "code",
   "execution_count": 377,
   "metadata": {},
   "outputs": [
    {
     "data": {
      "text/html": [
       "<div>\n",
       "<style scoped>\n",
       "    .dataframe tbody tr th:only-of-type {\n",
       "        vertical-align: middle;\n",
       "    }\n",
       "\n",
       "    .dataframe tbody tr th {\n",
       "        vertical-align: top;\n",
       "    }\n",
       "\n",
       "    .dataframe thead th {\n",
       "        text-align: right;\n",
       "    }\n",
       "</style>\n",
       "<table border=\"1\" class=\"dataframe\">\n",
       "  <thead>\n",
       "    <tr style=\"text-align: right;\">\n",
       "      <th></th>\n",
       "      <th>x1</th>\n",
       "      <th>x2</th>\n",
       "      <th>y</th>\n",
       "      <th>transformed</th>\n",
       "    </tr>\n",
       "  </thead>\n",
       "  <tbody>\n",
       "    <tr>\n",
       "      <th>0</th>\n",
       "      <td>-0.106006</td>\n",
       "      <td>-0.081467</td>\n",
       "      <td>0.0</td>\n",
       "      <td>[1, -0.10600562, -0.08146703400000001, 0.01123...</td>\n",
       "    </tr>\n",
       "    <tr>\n",
       "      <th>1</th>\n",
       "      <td>0.177930</td>\n",
       "      <td>-0.345951</td>\n",
       "      <td>0.0</td>\n",
       "      <td>[1, 0.17792951, -0.34595141, 0.031658910528840...</td>\n",
       "    </tr>\n",
       "    <tr>\n",
       "      <th>2</th>\n",
       "      <td>0.102162</td>\n",
       "      <td>0.718258</td>\n",
       "      <td>1.0</td>\n",
       "      <td>[1, 0.10216153, 0.71825825, 0.0104369782119409...</td>\n",
       "    </tr>\n",
       "    <tr>\n",
       "      <th>3</th>\n",
       "      <td>0.694078</td>\n",
       "      <td>0.623397</td>\n",
       "      <td>0.0</td>\n",
       "      <td>[1, 0.69407831, 0.62339743, 0.4817447004124560...</td>\n",
       "    </tr>\n",
       "    <tr>\n",
       "      <th>4</th>\n",
       "      <td>0.023541</td>\n",
       "      <td>0.727432</td>\n",
       "      <td>1.0</td>\n",
       "      <td>[1, 0.023541068, 0.72743221, 0.000554181882580...</td>\n",
       "    </tr>\n",
       "  </tbody>\n",
       "</table>\n",
       "</div>"
      ],
      "text/plain": [
       "         x1        x2    y                                        transformed\n",
       "0 -0.106006 -0.081467  0.0  [1, -0.10600562, -0.08146703400000001, 0.01123...\n",
       "1  0.177930 -0.345951  0.0  [1, 0.17792951, -0.34595141, 0.031658910528840...\n",
       "2  0.102162  0.718258  1.0  [1, 0.10216153, 0.71825825, 0.0104369782119409...\n",
       "3  0.694078  0.623397  0.0  [1, 0.69407831, 0.62339743, 0.4817447004124560...\n",
       "4  0.023541  0.727432  1.0  [1, 0.023541068, 0.72743221, 0.000554181882580..."
      ]
     },
     "execution_count": 377,
     "metadata": {},
     "output_type": "execute_result"
    }
   ],
   "source": [
    "data_out['transformed'] = transformation(data_out['x1'], data_out['x2'])\n",
    "data_out.head()"
   ]
  },
  {
   "cell_type": "markdown",
   "metadata": {},
   "source": [
    "1. Применить линейную регрессию (можно пользоваться любыми библиотеками). Каковы значения ошибки классификации E_in и E_out? Ошибку классификации считать как долю неправильно классифицированных точек. "
   ]
  },
  {
   "cell_type": "code",
   "execution_count": 378,
   "metadata": {},
   "outputs": [],
   "source": [
    "# импортируем PCA и линейную регрессию\n",
    "from sklearn.decomposition import PCA\n",
    "from sklearn.linear_model import LinearRegression"
   ]
  },
  {
   "cell_type": "code",
   "execution_count": 379,
   "metadata": {},
   "outputs": [],
   "source": [
    "# разделим тренировочные данные на фичи и целевую переменную\n",
    "X_train = data_in[['x1', 'x2']]\n",
    "y_train = data_in['y']"
   ]
  },
  {
   "cell_type": "code",
   "execution_count": 380,
   "metadata": {
    "scrolled": true
   },
   "outputs": [
    {
     "data": {
      "image/png": "[encoded data removed]",
      "text/plain": [
       "<Figure size 432x288 with 1 Axes>"
      ]
     },
     "metadata": {},
     "output_type": "display_data"
    }
   ],
   "source": [
    "# взглянем на данные\n",
    "fig = plt.figure()\n",
    "ax = plt.axes(projection='3d')\n",
    "ax.scatter3D(data_in['x1'], data_in['x2'], data_in['y'], c=data_in['y'], cmap='autumn');"
   ]
  },
  {
   "cell_type": "code",
   "execution_count": 381,
   "metadata": {},
   "outputs": [
    {
     "data": {
      "image/png": "[encoded data removed]",
      "text/plain": [
       "<Figure size 432x288 with 1 Axes>"
      ]
     },
     "metadata": {},
     "output_type": "display_data"
    }
   ],
   "source": [
    "plt.scatter(data_in['x1'], data_in['x2'], c=data_in['y'], s=50, cmap='RdBu');"
   ]
  },
  {
   "cell_type": "code",
   "execution_count": 382,
   "metadata": {
    "scrolled": true
   },
   "outputs": [
    {
     "data": {
      "text/plain": [
       "LinearRegression(copy_X=True, fit_intercept=True, n_jobs=None,\n",
       "         normalize=False)"
      ]
     },
     "execution_count": 382,
     "metadata": {},
     "output_type": "execute_result"
    }
   ],
   "source": [
    "# фитим модель\n",
    "model = LinearRegression(fit_intercept=True) # fit_intercept - центрировать данные (да/нет)\n",
    "model.fit(X_train, y_train)"
   ]
  },
  {
   "cell_type": "code",
   "execution_count": 383,
   "metadata": {},
   "outputs": [],
   "source": [
    "# разделим тестовые данные на фичи и целевую переменную\n",
    "X_test = data_out[['x1', 'x2']]\n",
    "y_test = data_out['y']"
   ]
  },
  {
   "cell_type": "code",
   "execution_count": 384,
   "metadata": {
    "scrolled": true
   },
   "outputs": [],
   "source": [
    "# делаем предсказание\n",
    "y_pred = model.predict(X_test)"
   ]
  },
  {
   "cell_type": "code",
   "execution_count": 385,
   "metadata": {
    "scrolled": true
   },
   "outputs": [
    {
     "data": {
      "text/plain": [
       "array([0.57093437, 0.53344915, 0.61777413, 0.57377505, 0.623362  ,\n",
       "       0.52796232, 0.62236887, 0.62155188, 0.66390336, 0.55232583,\n",
       "       0.59178325, 0.57205238, 0.67720332, 0.58634177, 0.50040735,\n",
       "       0.65693619, 0.61731429, 0.56433681, 0.55530235, 0.56253727,\n",
       "       0.63293273, 0.66809376, 0.57453685, 0.45501826, 0.48783615,\n",
       "       0.67453099, 0.57070038, 0.50953882, 0.45355378, 0.67514315,\n",
       "       0.598561  , 0.60825656, 0.5845698 , 0.56824979, 0.63731399,\n",
       "       0.59272331, 0.66188877, 0.47666751, 0.59856622, 0.61647566,\n",
       "       0.53954696, 0.63615062, 0.55780151, 0.55977815, 0.54252095,\n",
       "       0.60551661, 0.67393937, 0.59008823, 0.66408642, 0.661431  ,\n",
       "       0.63376194, 0.65595635, 0.54918065, 0.48432671, 0.55989641,\n",
       "       0.64218293, 0.58340688, 0.50757948, 0.56946796, 0.5358501 ,\n",
       "       0.51762187, 0.56701762, 0.54918531, 0.56947328, 0.58768234,\n",
       "       0.54722327, 0.57954688, 0.55299388, 0.61122184, 0.50739411,\n",
       "       0.66740193, 0.54977572, 0.68796146, 0.54275195, 0.52298603,\n",
       "       0.52749112, 0.59299034, 0.55879585, 0.60182732, 0.55448844,\n",
       "       0.50461337, 0.63255922, 0.64388229, 0.54094025, 0.55013001,\n",
       "       0.45511163, 0.53838317, 0.51741471, 0.61466814, 0.58675142,\n",
       "       0.64280922, 0.61323908, 0.55473993, 0.55682069, 0.54515645,\n",
       "       0.58276104, 0.59907618, 0.60309989, 0.65359919, 0.62543293,\n",
       "       0.61374981, 0.64458375, 0.48871505, 0.54551415, 0.57811043,\n",
       "       0.61531526, 0.57673972, 0.53546036, 0.49756086, 0.68828933,\n",
       "       0.56236146, 0.56378077, 0.59460091, 0.62487387, 0.60552934,\n",
       "       0.63378189, 0.65324802, 0.48394041, 0.53389677, 0.583524  ,\n",
       "       0.54092088, 0.51085266, 0.54535289, 0.53513343, 0.52108824,\n",
       "       0.59198032, 0.54701518, 0.63574351, 0.65577658, 0.5670557 ,\n",
       "       0.45441451, 0.54734995, 0.54546362, 0.55773535, 0.56392486,\n",
       "       0.49706041, 0.56447979, 0.45086056, 0.65090004, 0.47521057,\n",
       "       0.59173379, 0.51678751, 0.65452951, 0.60248177, 0.52200125,\n",
       "       0.69253964, 0.597372  , 0.47830063, 0.60588192, 0.57703215,\n",
       "       0.54332355, 0.5666485 , 0.50025852, 0.58348352, 0.69920206,\n",
       "       0.58705402, 0.55783441, 0.53366714, 0.58507422, 0.66547354,\n",
       "       0.51520307, 0.47135993, 0.45630348, 0.59853531, 0.43817562,\n",
       "       0.59730044, 0.61928775, 0.47167183, 0.607202  , 0.63941287,\n",
       "       0.54702262, 0.5719985 , 0.54418261, 0.56541539, 0.60051464,\n",
       "       0.66326145, 0.57809524, 0.57256689, 0.54162275, 0.64691787,\n",
       "       0.63927049, 0.58086352, 0.60330177, 0.60462085, 0.53827332,\n",
       "       0.58477313, 0.53486187, 0.64428694, 0.54118008, 0.5121769 ,\n",
       "       0.55697345, 0.62863858, 0.56305899, 0.62958148, 0.60600594,\n",
       "       0.51828519, 0.5794456 , 0.50646195, 0.50807584, 0.5454359 ,\n",
       "       0.45802582, 0.53810934, 0.55009574, 0.64735329, 0.61413402,\n",
       "       0.573951  , 0.63264777, 0.57322467, 0.60565394, 0.61690634,\n",
       "       0.51121927, 0.5604257 , 0.67264471, 0.53332688, 0.52465169,\n",
       "       0.62272236, 0.53623101, 0.48977643, 0.49539847, 0.52462095,\n",
       "       0.53072417, 0.53292583, 0.61512867, 0.52781228, 0.53930477,\n",
       "       0.4925284 , 0.55924663, 0.66035414, 0.47274617, 0.63433134,\n",
       "       0.48653284, 0.49043166, 0.5364935 , 0.54128739, 0.44771085,\n",
       "       0.48340911, 0.48286046, 0.62115999, 0.57365639, 0.66559751,\n",
       "       0.4520013 , 0.51913556, 0.52051162, 0.60348482, 0.5085786 ,\n",
       "       0.59858363, 0.65386237, 0.50801073, 0.54399221, 0.56701072])"
      ]
     },
     "execution_count": 385,
     "metadata": {},
     "output_type": "execute_result"
    }
   ],
   "source": [
    "# смотрим на полученные ответы\n",
    "y_pred"
   ]
  },
  {
   "cell_type": "code",
   "execution_count": 386,
   "metadata": {
    "scrolled": true
   },
   "outputs": [
    {
     "data": {
      "text/plain": [
       "array([1., 1., 1., 1., 1., 1., 1., 1., 1., 1., 1., 1., 1., 1., 1., 1., 1.,\n",
       "       1., 1., 1., 1., 1., 1., 0., 0., 1., 1., 1., 0., 1., 1., 1., 1., 1.,\n",
       "       1., 1., 1., 0., 1., 1., 1., 1., 1., 1., 1., 1., 1., 1., 1., 1., 1.,\n",
       "       1., 1., 0., 1., 1., 1., 1., 1., 1., 1., 1., 1., 1., 1., 1., 1., 1.,\n",
       "       1., 1., 1., 1., 1., 1., 1., 1., 1., 1., 1., 1., 1., 1., 1., 1., 1.,\n",
       "       0., 1., 1., 1., 1., 1., 1., 1., 1., 1., 1., 1., 1., 1., 1., 1., 1.,\n",
       "       0., 1., 1., 1., 1., 1., 0., 1., 1., 1., 1., 1., 1., 1., 1., 0., 1.,\n",
       "       1., 1., 1., 1., 1., 1., 1., 1., 1., 1., 1., 0., 1., 1., 1., 1., 0.,\n",
       "       1., 0., 1., 0., 1., 1., 1., 1., 1., 1., 1., 0., 1., 1., 1., 1., 1.,\n",
       "       1., 1., 1., 1., 1., 1., 1., 1., 0., 0., 1., 0., 1., 1., 0., 1., 1.,\n",
       "       1., 1., 1., 1., 1., 1., 1., 1., 1., 1., 1., 1., 1., 1., 1., 1., 1.,\n",
       "       1., 1., 1., 1., 1., 1., 1., 1., 1., 1., 1., 1., 1., 0., 1., 1., 1.,\n",
       "       1., 1., 1., 1., 1., 1., 1., 1., 1., 1., 1., 1., 1., 0., 0., 1., 1.,\n",
       "       1., 1., 1., 1., 0., 1., 1., 0., 1., 0., 0., 1., 1., 0., 0., 0., 1.,\n",
       "       1., 1., 0., 1., 1., 1., 1., 1., 1., 1., 1., 1.])"
      ]
     },
     "execution_count": 386,
     "metadata": {},
     "output_type": "execute_result"
    }
   ],
   "source": [
    "# для бинарной классификации линейная регрессия годится не очень\n",
    "# преобразуем данные в единицы и нули простым округлением\n",
    "y_pred = np.round(y_pred)\n",
    "y_pred"
   ]
  },
  {
   "cell_type": "code",
   "execution_count": 387,
   "metadata": {},
   "outputs": [
    {
     "name": "stdout",
     "output_type": "stream",
     "text": [
      "Ошибка классификации Eout: 0.412\n",
      "Ошибка классификации Ein: 0.4\n"
     ]
    }
   ],
   "source": [
    "from sklearn.metrics import accuracy_score\n",
    "print(\"Ошибка классификации Eout: {}\".format(accuracy_score(y_test, y_pred)))\n",
    "print(\"Ошибка классификации Ein: {}\".format(accuracy_score(y_train, np.round(model.predict(X_train)))))\n",
    "\n"
   ]
  },
  {
   "cell_type": "code",
   "execution_count": 388,
   "metadata": {},
   "outputs": [],
   "source": [
    "# подбрасывание монетки даст более точные результаты, чем эта модель "
   ]
  },
  {
   "cell_type": "markdown",
   "metadata": {},
   "source": [
    "2. Добавить к уравнению квадратичной ошибки регрессии регуляризатор \n",
    "\n",
    "$$P =\\lambda/N \\sum_{n=1}^{N=7} \\ |\\theta_n| $$\n",
    "\n",
    "Каковы значения ошибки классификации Ein и Eout в этом случае?"
   ]
  },
  {
   "cell_type": "code",
   "execution_count": 389,
   "metadata": {},
   "outputs": [],
   "source": [
    "# регуляризатор, использующий сумму модулей коэффициентов - это L1 (Lasso) \n",
    "from sklearn.linear_model import Lasso\n",
    "N=7\n",
    "model = Lasso(alpha=0.1/N) # установим альфа"
   ]
  },
  {
   "cell_type": "code",
   "execution_count": 390,
   "metadata": {},
   "outputs": [
    {
     "data": {
      "text/plain": [
       "Lasso(alpha=0.014285714285714287, copy_X=True, fit_intercept=True,\n",
       "   max_iter=1000, normalize=False, positive=False, precompute=False,\n",
       "   random_state=None, selection='cyclic', tol=0.0001, warm_start=False)"
      ]
     },
     "execution_count": 390,
     "metadata": {},
     "output_type": "execute_result"
    }
   ],
   "source": [
    "model.fit(X_train, y_train)"
   ]
  },
  {
   "cell_type": "code",
   "execution_count": 391,
   "metadata": {},
   "outputs": [],
   "source": [
    "y_pred = np.round(model.predict(X_test))"
   ]
  },
  {
   "cell_type": "code",
   "execution_count": 397,
   "metadata": {},
   "outputs": [
    {
     "name": "stdout",
     "output_type": "stream",
     "text": [
      "Ошибка классификации Eout: 0.528\n",
      "Ошибка классификации Ein: 0.5714285714285714\n"
     ]
    }
   ],
   "source": [
    "print(\"Ошибка классификации Eout: {}\".format(accuracy_score(y_test, y_pred)))\n",
    "print(\"Ошибка классификации Ein: {}\".format(accuracy_score(y_train, np.round(model.predict(X_train)))))"
   ]
  },
  {
   "cell_type": "code",
   "execution_count": null,
   "metadata": {},
   "outputs": [],
   "source": []
  },
  {
   "cell_type": "markdown",
   "metadata": {},
   "source": [
    "##### Вопросы по лекции"
   ]
  },
  {
   "cell_type": "markdown",
   "metadata": {},
   "source": [
    "Хотелось бы понимать слайд ниже лучше:\n",
    "\n",
    "1. Что из себя представляет матрица X ?\n",
    "2. var(X) - это матрица коэффициентов ковариации? Ковариации чего с чем? Векторов X1,X2,...,Xp  друг с другом?\n",
    "3. Собственных значений такой матрицы может быть больше или равно p ?\n",
    "4. Что такое var(Yi) ? Почему оно равно лямбда итое?\n",
    "5. Из лекции не удалось сформировать целостное понимание метода PCA. Есть ли какой-то хороший источник, где можно прочитать объяснение?\n",
    "Спасибо\n"
   ]
  },
  {
   "cell_type": "markdown",
   "metadata": {},
   "source": [
    "<img src=\"Screenshot_14.jpg\" width=\"500\">"
   ]
  }
 ],
 "metadata": {
  "kernelspec": {
   "display_name": "Python 3",
   "language": "python",
   "name": "python3"
  },
  "language_info": {
   "codemirror_mode": {
    "name": "ipython",
    "version": 3
   },
   "file_extension": ".py",
   "mimetype": "text/x-python",
   "name": "python",
   "nbconvert_exporter": "python",
   "pygments_lexer": "ipython3",
   "version": "3.7.1"
  }
 },
 "nbformat": 4,
 "nbformat_minor": 2
}
