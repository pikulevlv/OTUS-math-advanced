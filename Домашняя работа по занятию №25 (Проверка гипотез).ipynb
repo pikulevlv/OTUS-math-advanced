{
 "cells": [
  {
   "cell_type": "markdown",
   "metadata": {},
   "source": [
    "### Проверка гипотез. А/В-тестирование"
   ]
  },
  {
   "cell_type": "markdown",
   "metadata": {},
   "source": [
    "1. На любом языке программирования написать программу, реализующую разобранные на занятии критерии проверки гипотез о равенстве вероятностей и средних значений. В качестве ответа программа должна возвращать - значение статистики критерия, ответ на вопрос принимается или отвергается основная гипотеза на выбранном уровне значимости, Р-значение. Ссылку на код на гитхабе прислать в чат с преподавателем."
   ]
  },
  {
   "cell_type": "code",
   "execution_count": 624,
   "metadata": {},
   "outputs": [],
   "source": [
    "import numpy as np\n",
    "import warnings\n",
    "warnings.filterwarnings(\"ignore\")\n",
    "from scipy.stats import norm\n",
    "import pandas as pd"
   ]
  },
  {
   "cell_type": "code",
   "execution_count": 625,
   "metadata": {},
   "outputs": [],
   "source": [
    "data_norm =np.random.normal(0, 1, 100000)"
   ]
  },
  {
   "cell_type": "code",
   "execution_count": 626,
   "metadata": {},
   "outputs": [],
   "source": [
    "alpha = 0.05"
   ]
  },
  {
   "cell_type": "code",
   "execution_count": 627,
   "metadata": {},
   "outputs": [],
   "source": [
    "def get_quantile(data=[], alpha=0.05):\n",
    "    \"\"\"Функция принимает на вход массив c распределением N(0;1), \n",
    "    параметр - уровень значимости (alpha) \n",
    "    и возвращает значение квантиля уровня alpha для \n",
    "    нормального стандартного распределения N(0;1)\n",
    "    \"\"\"\n",
    "    if data == []:\n",
    "        data = np.random.normal(0, 1, 1000000)\n",
    "        return np.quantile(data, alpha, axis = None)\n",
    "    else:\n",
    "        return np.quantile(data, alpha, axis = None)"
   ]
  },
  {
   "cell_type": "code",
   "execution_count": 628,
   "metadata": {},
   "outputs": [
    {
     "data": {
      "text/plain": [
       "-1.656718433604984"
      ]
     },
     "execution_count": 628,
     "metadata": {},
     "output_type": "execute_result"
    }
   ],
   "source": [
    "# проверка\n",
    "get_quantile(data=data_norm, alpha=alpha)"
   ]
  },
  {
   "cell_type": "code",
   "execution_count": 629,
   "metadata": {},
   "outputs": [],
   "source": [
    "def get_AB_matrix(A_success, A_fail, B_success, B_fail):\n",
    "    \"\"\"Функция принимает на вход\n",
    "    A_succes - число успехов при варианте А\n",
    "    A_fail - число неудач при варианте А\n",
    "    B_success - число успехов при варианте В\n",
    "    B_fail - число неудач при варианте В\n",
    "    и возвращает матрицу numpy размера 3*3 вида\n",
    "    array([[  46., 1054., 1100.],\n",
    "           [  30.,  970., 1000.],\n",
    "           [  76., 2024., 2100.]])\n",
    "    \"\"\"\n",
    "    matrix = np.zeros( (3, 3) )\n",
    "    matrix[0,0] = A_success\n",
    "    matrix[0,1] = A_fail\n",
    "    matrix[1,0] = B_success\n",
    "    matrix[1,1] = B_fail\n",
    "    matrix[2,0] = matrix[0,0] + matrix[1,0]\n",
    "    matrix[2,1] = matrix[0,1] + matrix[1,1]\n",
    "    matrix[0,2] = matrix[0,0] + matrix[0,1]\n",
    "    matrix[1,2] = matrix[1,0] + matrix[1,1]\n",
    "    matrix[2,2] = matrix[0,2] + matrix[1,2]\n",
    "    \n",
    "    return matrix"
   ]
  },
  {
   "cell_type": "code",
   "execution_count": 630,
   "metadata": {
    "scrolled": true
   },
   "outputs": [
    {
     "data": {
      "text/plain": [
       "array([[  46., 1054., 1100.],\n",
       "       [  30.,  970., 1000.],\n",
       "       [  76., 2024., 2100.]])"
      ]
     },
     "execution_count": 630,
     "metadata": {},
     "output_type": "execute_result"
    }
   ],
   "source": [
    "# проверка\n",
    "get_AB_matrix(46, 1054, 30, 970)"
   ]
  },
  {
   "cell_type": "code",
   "execution_count": 631,
   "metadata": {},
   "outputs": [],
   "source": [
    "def get_T(matrix):\n",
    "    \"\"\"Функция принимает матрицу с результатами опыта вида\n",
    "    array([[  46., 1054., 1100.],\n",
    "       [  30.,  970., 1000.],\n",
    "       [  76., 2024., 2100.]])\n",
    "       и возвращает значение статистики критерия (Т)\n",
    "    \"\"\"\n",
    "    numerator = (matrix[0,0]/matrix[0,2]) - (matrix[1,0]/matrix[1,2])\n",
    "    denominator = np.sqrt((matrix[2,0]/matrix[2,2])*\n",
    "                          (1-matrix[2,0]/matrix[2,2])*\n",
    "                          (1/matrix[0,2] + 1/matrix[1,2]))\n",
    "    return numerator/denominator"
   ]
  },
  {
   "cell_type": "code",
   "execution_count": 632,
   "metadata": {},
   "outputs": [
    {
     "data": {
      "text/plain": [
       "1.4482535671508665"
      ]
     },
     "execution_count": 632,
     "metadata": {},
     "output_type": "execute_result"
    }
   ],
   "source": [
    "# проверка\n",
    "get_T(get_AB_matrix(46, 1054, 30, 970))"
   ]
  },
  {
   "cell_type": "code",
   "execution_count": 633,
   "metadata": {},
   "outputs": [],
   "source": [
    "def p_value(T):\n",
    "    \"\"\"Функция принимает аргумент float - \n",
    "    статистику критерия (Т)\n",
    "    и возвращает p-value\"\"\"\n",
    "    return 1 - norm.cdf(T, loc=0, scale=1)"
   ]
  },
  {
   "cell_type": "code",
   "execution_count": 634,
   "metadata": {},
   "outputs": [
    {
     "data": {
      "text/plain": [
       "0.0721450369658938"
      ]
     },
     "execution_count": 634,
     "metadata": {},
     "output_type": "execute_result"
    }
   ],
   "source": [
    "#проверка\n",
    "p_value(1.46)"
   ]
  },
  {
   "cell_type": "code",
   "execution_count": 635,
   "metadata": {},
   "outputs": [],
   "source": [
    "def initial_arr(array_x, array_y):\n",
    "    \"\"\"Функция принимает на вход 2 массива с измерениями\n",
    "    вида array([[ 3,  7,  2, 80]]), \n",
    "    присваивает первому массиву метку 0 во втором столбце,\n",
    "    а второму массиву - метку 1, \n",
    "    затем ранжирует по возрастанию значения измерения\n",
    "    и возвращает матрицу вида\n",
    "    array([[ 1.,  1.],\n",
    "            [ 2.,  0.],\n",
    "            [ 3.,  0.],\n",
    "            [ 3.,  1.],\n",
    "            [ 6.,  1.],\n",
    "            [ 7.,  0.],\n",
    "            [ 9.,  1.],\n",
    "            [80.,  0.]])\n",
    "    \"\"\"\n",
    "    array_x = array_x.reshape(array_x.shape[1], 1)\n",
    "    array_x = np.hstack((array_x,np.zeros(array_x.shape)))\n",
    "    array_y = array_y.reshape(array_y.shape[1], 1)\n",
    "    array_y = np.hstack((array_y,np.ones(array_y.shape)))\n",
    "    full_array = np.vstack((array_x,array_y))\n",
    "    \n",
    "    return np.array(sorted(map(tuple, full_array)))\n"
   ]
  },
  {
   "cell_type": "code",
   "execution_count": 636,
   "metadata": {},
   "outputs": [
    {
     "data": {
      "text/plain": [
       "array([[ 1.,  1.],\n",
       "       [ 2.,  0.],\n",
       "       [ 3.,  0.],\n",
       "       [ 3.,  1.],\n",
       "       [ 6.,  1.],\n",
       "       [ 7.,  0.],\n",
       "       [ 9.,  1.],\n",
       "       [80.,  0.]])"
      ]
     },
     "execution_count": 636,
     "metadata": {},
     "output_type": "execute_result"
    }
   ],
   "source": [
    "# проверка\n",
    "a = np.array([[3, 7, 2, 80]])\n",
    "b = np.array([[9, 1, 3, 6]])\n",
    "initial_arr(a,b)"
   ]
  },
  {
   "cell_type": "code",
   "execution_count": 637,
   "metadata": {},
   "outputs": [],
   "source": [
    "def rang_maker(array):\n",
    "    \"\"\"Функция принимает массив вида \n",
    "    array([[ 1.,  1.],\n",
    "           [ 2.,  0.],\n",
    "           [ 3.,  0.],\n",
    "           [ 3.,  1.],\n",
    "           [ 6.,  1.],\n",
    "           [ 7.,  0.],\n",
    "           [ 9.,  1.],\n",
    "           [80.,  0.]])\n",
    "       от функции initial_arr() \n",
    "       и возвращает такой же массив, но с дополнительным\n",
    "       столбцом с рангом.\n",
    "       При этом для повторяющихся значений ранг высчитывается как средний.\n",
    "       Например:\n",
    "       array([[ 1. ,  1. ,  1. ],\n",
    "           [ 2. ,  0. ,  2. ],\n",
    "           [ 3. ,  0. ,  3.5],\n",
    "           [ 3. ,  1. ,  3.5],\n",
    "           [ 6. ,  1. ,  5. ],\n",
    "           [ 7. ,  0. ,  6. ],\n",
    "           [ 9. ,  1. ,  7. ],\n",
    "           [80. ,  0. ,  8. ]])\n",
    "       \"\"\"\n",
    "    rangs = np.arange(1, array.shape[0]+1)[:, np.newaxis]\n",
    "    array = np.hstack((array, rangs))\n",
    "    \n",
    "    for i in array[:,0]:\n",
    "        if array[:, 0][array[:, 0] == i ].shape[0] > 1:\n",
    "            array[:,2][array[:, 0] == i ] = np.mean(array[:,2][ array[:, 0] == i ])\n",
    "        \n",
    "    return array"
   ]
  },
  {
   "cell_type": "code",
   "execution_count": 638,
   "metadata": {
    "scrolled": false
   },
   "outputs": [
    {
     "data": {
      "text/plain": [
       "array([[ 1. ,  1. ,  1. ],\n",
       "       [ 2. ,  0. ,  2. ],\n",
       "       [ 3. ,  0. ,  3.5],\n",
       "       [ 3. ,  1. ,  3.5],\n",
       "       [ 6. ,  1. ,  5. ],\n",
       "       [ 7. ,  0. ,  6. ],\n",
       "       [ 9. ,  1. ,  7. ],\n",
       "       [80. ,  0. ,  8. ]])"
      ]
     },
     "execution_count": 638,
     "metadata": {},
     "output_type": "execute_result"
    }
   ],
   "source": [
    "# проверка\n",
    "array = rang_maker(initial_arr(a,b))\n",
    "array"
   ]
  },
  {
   "cell_type": "code",
   "execution_count": 639,
   "metadata": {},
   "outputs": [],
   "source": [
    "def results(array):\n",
    "    \"\"\"Функция принимает на вход \n",
    "    матрицу с расставленными рангами\n",
    "    и возвращает для игреков значения в виде списка:\n",
    "    W_eval -статистика критерия \n",
    "    M - мат. ожидание\n",
    "    D - дисперсия\n",
    "    W - суммма рангов\n",
    "    \"\"\"\n",
    "    W = np.sum(array[:,2][array[:, 1] == 1 ])\n",
    "    n = array[array[:, 1] == 1 ].shape[0]\n",
    "    m = array[array[:, 1] == 0 ].shape[0]\n",
    "    M = (n/2)*(m+n+1)\n",
    "    D = (m*n/12)*(m+n+1)\n",
    "    W_eval = (W - M)/np.sqrt(D)\n",
    "        \n",
    "    return [W_eval, M, D, W]"
   ]
  },
  {
   "cell_type": "code",
   "execution_count": 640,
   "metadata": {},
   "outputs": [
    {
     "data": {
      "text/plain": [
       "[-0.43301270189221935, 18.0, 12.0, 16.5]"
      ]
     },
     "execution_count": 640,
     "metadata": {},
     "output_type": "execute_result"
    }
   ],
   "source": [
    "# проверка\n",
    "results(array)"
   ]
  },
  {
   "cell_type": "code",
   "execution_count": 641,
   "metadata": {},
   "outputs": [],
   "source": [
    "def crit_conf_reg_plot(crit_stat = 0, alpha=0.05, Ha_type='inequality'):\n",
    "    \"\"\"Функция отрисовывает критическую(-ие) область (-и)\n",
    "    и положение статистики критерия.\n",
    "    Необходимо задать тип неравенства в гипотезе:\n",
    "    'inequality' - не равно\n",
    "    'bigger' - больше\n",
    "    'less' - меньше.\n",
    "    По умолчанию значеине сатистики критерия (crit_stat) равно 0,\n",
    "    уровня значимости (alpha) равно 0,05\n",
    "    \"\"\"\n",
    "    x = np.linspace(-5, 5, 2000)\n",
    "    y = np.zeros((2000))\n",
    "    data = np.random.normal(0, 1, 1000000)\n",
    "    fig = plt.figure()\n",
    "    ax = plt.axes()\n",
    "    ax.plot(x,y, c = 'red')\n",
    "    plt.scatter(crit_stat, 0, color='green')\n",
    "    style = dict(size=10, color='gray')\n",
    "\n",
    "    plt.text(crit_stat, 0, 'T\\n', **style)\n",
    "    if Ha_type == 'inequality':\n",
    "        start = np.quantile(data, alpha/2, axis = None)\n",
    "        end = np.quantile(data, 1-alpha/2, axis = None)\n",
    "        plt.scatter([start, end], [0,0], color='black')\n",
    "        plt.text(start, 0, 't 1/2 alpha\\n', **style)\n",
    "        plt.text(end, 0, 't 1-1/2 alpha\\n', **style)\n",
    "        plt.plot(np.linspace(start, end, 100), np.zeros((100)), color='blue')\n",
    "    elif Ha_type == 'bigger':\n",
    "        start = x[0]\n",
    "        end = np.quantile(data, 1-alpha, axis = None)\n",
    "        plt.scatter([end], [0], color='black')\n",
    "        plt.text(end, 0, 't 1-alpha\\n', **style)\n",
    "        plt.plot(np.linspace(start, end, 100), np.zeros((100)), color='blue')\n",
    "    elif Ha_type == 'less':\n",
    "        start = np.quantile(data, alpha, axis = None)\n",
    "        end = x[-1]\n",
    "        plt.scatter([start], [0], color='black')\n",
    "        plt.text(start, 0, 't alpha\\n', **style)\n",
    "        plt.plot(np.linspace(start, end, 100), np.zeros((100)), color='blue')\n",
    "    plt.show()"
   ]
  },
  {
   "cell_type": "code",
   "execution_count": 642,
   "metadata": {},
   "outputs": [
    {
     "data": {
      "image/png": "[encoded data removed]",
      "text/plain": [
       "<Figure size 432x288 with 1 Axes>"
      ]
     },
     "metadata": {
      "needs_background": "light"
     },
     "output_type": "display_data"
    }
   ],
   "source": [
    "# проверка\n",
    "crit_conf_reg_plot(Ha_type='less')"
   ]
  },
  {
   "cell_type": "code",
   "execution_count": 643,
   "metadata": {},
   "outputs": [
    {
     "data": {
      "image/png": "[encoded data removed]",
      "text/plain": [
       "<Figure size 432x288 with 1 Axes>"
      ]
     },
     "metadata": {
      "needs_background": "light"
     },
     "output_type": "display_data"
    }
   ],
   "source": [
    "# проверка\n",
    "crit_conf_reg_plot(Ha_type='bigger')"
   ]
  },
  {
   "cell_type": "code",
   "execution_count": 644,
   "metadata": {},
   "outputs": [
    {
     "data": {
      "image/png": "[encoded data removed]",
      "text/plain": [
       "<Figure size 432x288 with 1 Axes>"
      ]
     },
     "metadata": {
      "needs_background": "light"
     },
     "output_type": "display_data"
    }
   ],
   "source": [
    "# проверка\n",
    "crit_conf_reg_plot(Ha_type='inequality')"
   ]
  },
  {
   "cell_type": "markdown",
   "metadata": {},
   "source": [
    "2. С помощью написанной программы решить четыре задачи. Ответы задач прислать в чат с преподавателем. Условия задач: https://drive.google.com/open?id=11JjbSSbswtrfCxwh4xla_Q7aj_KfWXqC"
   ]
  },
  {
   "cell_type": "markdown",
   "metadata": {},
   "source": [
    "### Задача 1. \n",
    "\n",
    "Перед президентскими выборами  в городах Курске и Владивостоке был проведен социологический опрос. Каждый респондент должен был ответить на вопрос: «За какого кандидата вы будете голосовать на выборах?». В Курске опросили 105 человек, из них 42 ответили, что будут голосовать за кандидата А, во Владивостоке опросили 195 человек, из которых 65 за А. Можно ли считать на уровне значимости 0,05, что уровни поддержки кандидата А в Курске и Владивостоке одинаковы?"
   ]
  },
  {
   "cell_type": "markdown",
   "metadata": {},
   "source": [
    "##### Шаг 0. Строим модель.\n",
    "\n",
    "p1 - вероятность голоса за кандидата в Курске (уровень поддержки в Курске)\n",
    "\n",
    "p2 - вероятность голоса за кандидата во Владивостоке (уровень поддержки во Владивостоке)"
   ]
  },
  {
   "cell_type": "code",
   "execution_count": 645,
   "metadata": {},
   "outputs": [
    {
     "data": {
      "text/plain": [
       "array([[ 42.,  63., 105.],\n",
       "       [ 65., 130., 195.],\n",
       "       [107., 193., 300.]])"
      ]
     },
     "execution_count": 645,
     "metadata": {},
     "output_type": "execute_result"
    }
   ],
   "source": [
    "matrix_1 = get_AB_matrix(A_success=42, A_fail=105-42, B_success=65, B_fail=195-65)\n",
    "matrix_1"
   ]
  },
  {
   "cell_type": "markdown",
   "metadata": {},
   "source": [
    "##### Шаг 1. Формулируем гипотезы.\n",
    "\n",
    "H0: p1=p2\n",
    "    \n",
    "Ha: p1<p2"
   ]
  },
  {
   "cell_type": "markdown",
   "metadata": {},
   "source": [
    "##### Шаг 2. Формулируем утверждение о статистике критерия.\n",
    "\n",
    "Если гипотеза H0 верна, то Т~N(0,1)"
   ]
  },
  {
   "cell_type": "markdown",
   "metadata": {},
   "source": [
    "##### Шаг 3. Вычисляем значение статистики критерия."
   ]
  },
  {
   "cell_type": "code",
   "execution_count": 646,
   "metadata": {},
   "outputs": [
    {
     "data": {
      "text/plain": [
       "1.1497694901123454"
      ]
     },
     "execution_count": 646,
     "metadata": {},
     "output_type": "execute_result"
    }
   ],
   "source": [
    "T_1 = get_T(matrix_1)\n",
    "T_1"
   ]
  },
  {
   "cell_type": "markdown",
   "metadata": {},
   "source": [
    "##### Шаг 4а. Строим доверит. и крит. обл."
   ]
  },
  {
   "cell_type": "code",
   "execution_count": 647,
   "metadata": {},
   "outputs": [
    {
     "data": {
      "image/png": "[encoded data removed]",
      "text/plain": [
       "<Figure size 432x288 with 1 Axes>"
      ]
     },
     "metadata": {
      "needs_background": "light"
     },
     "output_type": "display_data"
    }
   ],
   "source": [
    "crit_conf_reg_plot(crit_stat = T_1, alpha=0.05, Ha_type='less')"
   ]
  },
  {
   "cell_type": "markdown",
   "metadata": {},
   "source": [
    "##### Шаг 5а. Принимаем решение.\n",
    "\n",
    "На уровне значимости 0,05 нулевая гипотеза принимается, т.к. статистика критерия попала в доверительную область."
   ]
  },
  {
   "cell_type": "markdown",
   "metadata": {},
   "source": [
    "##### Шаг 4б. Вычисляем p-value"
   ]
  },
  {
   "cell_type": "code",
   "execution_count": 648,
   "metadata": {},
   "outputs": [
    {
     "data": {
      "text/plain": [
       "0.1251194122753233"
      ]
     },
     "execution_count": 648,
     "metadata": {},
     "output_type": "execute_result"
    }
   ],
   "source": [
    "p_value(T_1)"
   ]
  },
  {
   "cell_type": "markdown",
   "metadata": {},
   "source": [
    "p-value значительно больше уровня значимости. Принятому решению можно смело поверить."
   ]
  },
  {
   "cell_type": "markdown",
   "metadata": {},
   "source": [
    "### Задача 2. \n",
    "\n",
    "Для изучения эффективности лекарства против аллергии обследовались две группы людей, предрасположенных к этому заболеванию. Результаты обследования следующие: среди принимавших лекарство заболело 3 человека, не заболело 172 человека; среди не  принимавших заболело 32 человека, не заболело 168. Указывают ли эти результаты на эффективность лекарства?"
   ]
  },
  {
   "cell_type": "markdown",
   "metadata": {},
   "source": [
    "##### Шаг 0. Строим модель.\n",
    "\n",
    "p1 - вероятность не заболеть среди не принимавших препарат\n",
    "\n",
    "p2 - вероятность не заболеть среди принимавших препарат"
   ]
  },
  {
   "cell_type": "code",
   "execution_count": 649,
   "metadata": {},
   "outputs": [
    {
     "data": {
      "text/plain": [
       "array([[168.,  32., 200.],\n",
       "       [172.,   3., 175.],\n",
       "       [340.,  35., 375.]])"
      ]
     },
     "execution_count": 649,
     "metadata": {},
     "output_type": "execute_result"
    }
   ],
   "source": [
    "matrix_2 = get_AB_matrix(A_success=168, A_fail=32, B_success=172, B_fail=3)\n",
    "matrix_2"
   ]
  },
  {
   "cell_type": "markdown",
   "metadata": {},
   "source": [
    "##### Шаг 1. Формулируем гипотезы.\n",
    "\n",
    "H0: p1=p2\n",
    "    \n",
    "Ha: p1<p2"
   ]
  },
  {
   "cell_type": "markdown",
   "metadata": {},
   "source": [
    "##### Шаг 2. Формулируем утверждение о статистике критерия.\n",
    "\n",
    "Если гипотеза H0 верна, то Т~N(0,1)"
   ]
  },
  {
   "cell_type": "markdown",
   "metadata": {},
   "source": [
    "##### Шаг 3. Вычисляем значение статистики критерия."
   ]
  },
  {
   "cell_type": "code",
   "execution_count": 650,
   "metadata": {},
   "outputs": [
    {
     "data": {
      "text/plain": [
       "-4.744365458250511"
      ]
     },
     "execution_count": 650,
     "metadata": {},
     "output_type": "execute_result"
    }
   ],
   "source": [
    "T_2 = get_T(matrix_2)\n",
    "T_2"
   ]
  },
  {
   "cell_type": "markdown",
   "metadata": {},
   "source": [
    "##### Шаг 4а. Строим доверит. и крит. обл."
   ]
  },
  {
   "cell_type": "code",
   "execution_count": 651,
   "metadata": {},
   "outputs": [
    {
     "data": {
      "image/png": "[encoded data removed]",
      "text/plain": [
       "<Figure size 432x288 with 1 Axes>"
      ]
     },
     "metadata": {
      "needs_background": "light"
     },
     "output_type": "display_data"
    }
   ],
   "source": [
    "crit_conf_reg_plot(crit_stat = T_2, alpha=0.05, Ha_type='less')"
   ]
  },
  {
   "cell_type": "markdown",
   "metadata": {},
   "source": [
    "##### Шаг 5а. Принимаем решение.\n",
    "\n",
    "На уровне значимости 0,05 нулевая гипотеза отвергается в пользу альтернативной, т.к. статистика критерия попала в критическую область."
   ]
  },
  {
   "cell_type": "markdown",
   "metadata": {},
   "source": [
    "##### Шаг 4б. Вычисляем p-value"
   ]
  },
  {
   "cell_type": "code",
   "execution_count": 652,
   "metadata": {},
   "outputs": [
    {
     "data": {
      "text/plain": [
       "0.9999989541953025"
      ]
     },
     "execution_count": 652,
     "metadata": {},
     "output_type": "execute_result"
    }
   ],
   "source": [
    "p_value(T_2)"
   ]
  },
  {
   "cell_type": "markdown",
   "metadata": {},
   "source": [
    "### Задача 3\n",
    "Было проведено обследование 10 горожан и 9 жителей села примерно одного возраста. Получены следующие данные об уровне давления:\n",
    "\n",
    "для горожан: 130, 110, 120, 140, 200, 130, 140, 170, 160, 140;\n",
    "\n",
    "для селян: 120, 190, 130, 160, 150, 120, 110, 120, 200.\n",
    "\n",
    "Свидетельствуют ли эти данные в пользу того, что горожане имеют в среднем более высокое давление чем жители сельской местности?\n"
   ]
  },
  {
   "cell_type": "markdown",
   "metadata": {},
   "source": [
    "##### Шаг 0. Строим модель.\n",
    "\n",
    "\"Иксы\" (давление у горожан) 130, 110, 120, 140, 200, 130, 140, 170, 160, 140 ~ F(x)\n",
    "\n",
    "\"Игреки\" (давление у селян) 120, 190, 130, 160, 150, 120, 110, 120, 200 ~ F(x+$\\theta$)\n"
   ]
  },
  {
   "cell_type": "markdown",
   "metadata": {},
   "source": [
    "##### Шаг 1. Формулируем гипотезы.\n",
    "\n",
    "H0: $\\theta$=0 (значимой разницы нет)\n",
    "    \n",
    "Ha: $\\theta$>0 (разность среднего значения у горожан и селян - положительна)"
   ]
  },
  {
   "cell_type": "markdown",
   "metadata": {},
   "source": [
    "##### Шаг 2. Формулируем утверждение о статистике критерия.\n",
    "\n",
    "Если гипотеза H0 верна, то $\\bar{W}$~N(0,1)"
   ]
  },
  {
   "cell_type": "markdown",
   "metadata": {},
   "source": [
    "##### Шаг 3. Вычисляем значение статистики критерия."
   ]
  },
  {
   "cell_type": "code",
   "execution_count": 653,
   "metadata": {},
   "outputs": [
    {
     "data": {
      "text/plain": [
       "array([[110.,   0.],\n",
       "       [110.,   1.],\n",
       "       [120.,   0.],\n",
       "       [120.,   1.],\n",
       "       [120.,   1.],\n",
       "       [120.,   1.],\n",
       "       [130.,   0.],\n",
       "       [130.,   0.],\n",
       "       [130.,   1.],\n",
       "       [140.,   0.],\n",
       "       [140.,   0.],\n",
       "       [140.,   0.],\n",
       "       [150.,   1.],\n",
       "       [160.,   0.],\n",
       "       [160.,   1.],\n",
       "       [170.,   0.],\n",
       "       [190.,   1.],\n",
       "       [200.,   0.],\n",
       "       [200.,   1.]])"
      ]
     },
     "execution_count": 653,
     "metadata": {},
     "output_type": "execute_result"
    }
   ],
   "source": [
    "X_3 = np.array([[130, 110, 120, 140, 200, 130, 140, 170, 160, 140]])\n",
    "Y_3 = np.array([[120, 190, 130, 160, 150, 120, 110, 120, 200]])\n",
    "array_3 = initial_arr(X_3,Y_3)\n",
    "array_3"
   ]
  },
  {
   "cell_type": "code",
   "execution_count": 654,
   "metadata": {},
   "outputs": [
    {
     "data": {
      "text/plain": [
       "array([[110. ,   0. ,   1.5],\n",
       "       [110. ,   1. ,   1.5],\n",
       "       [120. ,   0. ,   4.5],\n",
       "       [120. ,   1. ,   4.5],\n",
       "       [120. ,   1. ,   4.5],\n",
       "       [120. ,   1. ,   4.5],\n",
       "       [130. ,   0. ,   8. ],\n",
       "       [130. ,   0. ,   8. ],\n",
       "       [130. ,   1. ,   8. ],\n",
       "       [140. ,   0. ,  11. ],\n",
       "       [140. ,   0. ,  11. ],\n",
       "       [140. ,   0. ,  11. ],\n",
       "       [150. ,   1. ,  13. ],\n",
       "       [160. ,   0. ,  14.5],\n",
       "       [160. ,   1. ,  14.5],\n",
       "       [170. ,   0. ,  16. ],\n",
       "       [190. ,   1. ,  17. ],\n",
       "       [200. ,   0. ,  18.5],\n",
       "       [200. ,   1. ,  18.5]])"
      ]
     },
     "execution_count": 654,
     "metadata": {},
     "output_type": "execute_result"
    }
   ],
   "source": [
    "array_3 = rang_maker(array_3)\n",
    "array_3"
   ]
  },
  {
   "cell_type": "code",
   "execution_count": 655,
   "metadata": {},
   "outputs": [
    {
     "data": {
      "text/plain": [
       "-0.32659863237109044"
      ]
     },
     "execution_count": 655,
     "metadata": {},
     "output_type": "execute_result"
    }
   ],
   "source": [
    "W_3 = results(array_3)[0]\n",
    "W_3"
   ]
  },
  {
   "cell_type": "code",
   "execution_count": 656,
   "metadata": {},
   "outputs": [
    {
     "name": "stdout",
     "output_type": "stream",
     "text": [
      "Статистика критерия: -0.327\n",
      "Мат. ожидание (давление у селян): 90.0\n",
      "Дисперсия (давление у селян): 150.0\n",
      "Суммма рангов (давление у селян): 86.0\n"
     ]
    }
   ],
   "source": [
    "print ('Статистика критерия: {0:.3}'.format(results(array_3)[0]))\n",
    "print ('Мат. ожидание (давление у селян): {0}'.format(results(array_3)[1]))\n",
    "print ('Дисперсия (давление у селян): {0}'.format(results(array_3)[2]))\n",
    "print ('Суммма рангов (давление у селян): {0}'.format(results(array_3)[3]))"
   ]
  },
  {
   "cell_type": "markdown",
   "metadata": {},
   "source": [
    "##### Шаг 4а. Строим доверит. и крит. обл."
   ]
  },
  {
   "cell_type": "code",
   "execution_count": 657,
   "metadata": {
    "scrolled": true
   },
   "outputs": [
    {
     "data": {
      "image/png": "[encoded data removed]",
      "text/plain": [
       "<Figure size 432x288 with 1 Axes>"
      ]
     },
     "metadata": {
      "needs_background": "light"
     },
     "output_type": "display_data"
    }
   ],
   "source": [
    "crit_conf_reg_plot(crit_stat = W_3, alpha=0.05, Ha_type='bigger')"
   ]
  },
  {
   "cell_type": "markdown",
   "metadata": {},
   "source": [
    "##### Шаг 5а. Принимаем решение.\n",
    "\n",
    "На уровне значимости 0,05 нулевая гипотеза принимается, т.к. статистика критерия попала в доверительную область."
   ]
  },
  {
   "cell_type": "markdown",
   "metadata": {},
   "source": [
    "##### Шаг 4б. Вычисляем p-value"
   ]
  },
  {
   "cell_type": "code",
   "execution_count": 658,
   "metadata": {},
   "outputs": [
    {
     "data": {
      "text/plain": [
       "0.6280142609624715"
      ]
     },
     "execution_count": 658,
     "metadata": {},
     "output_type": "execute_result"
    }
   ],
   "source": [
    "p_value(W_3)"
   ]
  },
  {
   "cell_type": "markdown",
   "metadata": {},
   "source": [
    "p-value значительно больше уровня значимости. Принятому решению можно смело поверить."
   ]
  },
  {
   "cell_type": "markdown",
   "metadata": {},
   "source": [
    "### Задача 4\n",
    "\n",
    "Уровень гистамина в мокроте у 7 курильщиков, склонных к аллергии, составил в мг:\n",
    "\n",
    "102,4\t100,0\t67,6\t65,9\t64,7\t39,6\t31,2\n",
    "\n",
    "У 10 курильщиков не склонных к аллергии составил в мг:\n",
    "\n",
    "48,1\t45,5\t41,7\t35,4\t29,1\t18,9\t58,3\t68,8\t71,3\t94,3\n",
    "\n",
    "Можно ли, основываясь на этих данных, считать с надёжностью 0,95 что уровень гистамина у склонных и не склонных к аллергии курильщиков значимо различается?"
   ]
  },
  {
   "cell_type": "markdown",
   "metadata": {},
   "source": [
    "##### Шаг 0. Строим модель.\n",
    "\n",
    "\"Иксы\" (Уровень гистамина у склонных к аллергии курильщиков) 102.4, 100.0, 67.6, 65.9, 64.7, 39.6, 31.2 ~ F(x)\n",
    "\n",
    "\"Игреки\" (Уровень гистамина у не склонных к аллергии курильщиков) 48.1, 45.5, 41.7, 35.4, \n",
    "29.1, 18.9, 58.3, 68.8, 71.3, 94.3 ~ F(x+$\\theta$)"
   ]
  },
  {
   "cell_type": "markdown",
   "metadata": {},
   "source": [
    "##### Шаг 1. Формулируем гипотезы.\n",
    "\n",
    "H0: $\\theta$=0 (значимой разницы нет)\n",
    "    \n",
    "Ha: $\\theta$>0 (разность среднего значения у склонных и не склонных - положительна)"
   ]
  },
  {
   "cell_type": "markdown",
   "metadata": {},
   "source": [
    "##### Шаг 2. Формулируем утверждение о статистике критерия.\n",
    "\n",
    "Если гипотеза H0 верна, то $\\bar{W}$~N(0,1)"
   ]
  },
  {
   "cell_type": "markdown",
   "metadata": {},
   "source": [
    "##### Шаг 3. Вычисляем значение статистики критерия."
   ]
  },
  {
   "cell_type": "code",
   "execution_count": 659,
   "metadata": {},
   "outputs": [
    {
     "data": {
      "text/plain": [
       "array([[ 18.9,   1. ],\n",
       "       [ 29.1,   1. ],\n",
       "       [ 31.2,   0. ],\n",
       "       [ 35.4,   1. ],\n",
       "       [ 39.6,   0. ],\n",
       "       [ 41.7,   1. ],\n",
       "       [ 45.5,   1. ],\n",
       "       [ 48.1,   1. ],\n",
       "       [ 58.3,   1. ],\n",
       "       [ 64.7,   0. ],\n",
       "       [ 65.9,   0. ],\n",
       "       [ 67.6,   0. ],\n",
       "       [ 68.8,   1. ],\n",
       "       [ 71.3,   1. ],\n",
       "       [ 94.3,   1. ],\n",
       "       [100. ,   0. ],\n",
       "       [102.4,   0. ]])"
      ]
     },
     "execution_count": 659,
     "metadata": {},
     "output_type": "execute_result"
    }
   ],
   "source": [
    "X_4 = np.array([[102.4, 100.0, 67.6, 65.9, 64.7, 39.6, 31.2]])\n",
    "Y_4 = np.array([[48.1, 45.5, 41.7, 35.4, 29.1, 18.9, 58.3, 68.8, 71.3, 94.3]])\n",
    "array_4 = initial_arr(X_4,Y_4)\n",
    "array_4"
   ]
  },
  {
   "cell_type": "code",
   "execution_count": 660,
   "metadata": {},
   "outputs": [
    {
     "data": {
      "text/plain": [
       "array([[ 18.9,   1. ,   1. ],\n",
       "       [ 29.1,   1. ,   2. ],\n",
       "       [ 31.2,   0. ,   3. ],\n",
       "       [ 35.4,   1. ,   4. ],\n",
       "       [ 39.6,   0. ,   5. ],\n",
       "       [ 41.7,   1. ,   6. ],\n",
       "       [ 45.5,   1. ,   7. ],\n",
       "       [ 48.1,   1. ,   8. ],\n",
       "       [ 58.3,   1. ,   9. ],\n",
       "       [ 64.7,   0. ,  10. ],\n",
       "       [ 65.9,   0. ,  11. ],\n",
       "       [ 67.6,   0. ,  12. ],\n",
       "       [ 68.8,   1. ,  13. ],\n",
       "       [ 71.3,   1. ,  14. ],\n",
       "       [ 94.3,   1. ,  15. ],\n",
       "       [100. ,   0. ,  16. ],\n",
       "       [102.4,   0. ,  17. ]])"
      ]
     },
     "execution_count": 660,
     "metadata": {},
     "output_type": "execute_result"
    }
   ],
   "source": [
    "array_4 = rang_maker(array_4)\n",
    "array_4"
   ]
  },
  {
   "cell_type": "code",
   "execution_count": 661,
   "metadata": {},
   "outputs": [
    {
     "data": {
      "text/plain": [
       "-1.0734900802433864"
      ]
     },
     "execution_count": 661,
     "metadata": {},
     "output_type": "execute_result"
    }
   ],
   "source": [
    "W_4 = results(array_4)[0]\n",
    "W_4"
   ]
  },
  {
   "cell_type": "code",
   "execution_count": 662,
   "metadata": {},
   "outputs": [
    {
     "name": "stdout",
     "output_type": "stream",
     "text": [
      "Статистика критерия: -1.07\n",
      "Мат. ожидание (давление у селян): 90.0\n",
      "Дисперсия (давление у селян): 105.0\n",
      "Суммма рангов (давление у селян): 79.0\n"
     ]
    }
   ],
   "source": [
    "print ('Статистика критерия: {0:.3}'.format(results(array_4)[0]))\n",
    "print ('Мат. ожидание (давление у селян): {0}'.format(results(array_4)[1]))\n",
    "print ('Дисперсия (давление у селян): {0}'.format(results(array_4)[2]))\n",
    "print ('Суммма рангов (давление у селян): {0}'.format(results(array_4)[3]))"
   ]
  },
  {
   "cell_type": "markdown",
   "metadata": {},
   "source": [
    "##### Шаг 4а. Строим доверит. и крит. обл."
   ]
  },
  {
   "cell_type": "code",
   "execution_count": 663,
   "metadata": {},
   "outputs": [
    {
     "data": {
      "image/png": "[encoded data removed]",
      "text/plain": [
       "<Figure size 432x288 with 1 Axes>"
      ]
     },
     "metadata": {
      "needs_background": "light"
     },
     "output_type": "display_data"
    }
   ],
   "source": [
    "crit_conf_reg_plot(crit_stat = W_4, alpha=0.05, Ha_type='bigger')"
   ]
  },
  {
   "cell_type": "markdown",
   "metadata": {},
   "source": [
    "##### Шаг 5а. Принимаем решение.\n",
    "\n",
    "На уровне значимости 0,05 нулевая гипотеза принимается, т.к. статистика критерия попала в доверительную область."
   ]
  },
  {
   "cell_type": "markdown",
   "metadata": {},
   "source": [
    "##### Шаг 4б. Вычисляем p-value"
   ]
  },
  {
   "cell_type": "code",
   "execution_count": 664,
   "metadata": {},
   "outputs": [
    {
     "data": {
      "text/plain": [
       "0.8584743564740577"
      ]
     },
     "execution_count": 664,
     "metadata": {},
     "output_type": "execute_result"
    }
   ],
   "source": [
    "p_value(W_4)"
   ]
  },
  {
   "cell_type": "markdown",
   "metadata": {},
   "source": [
    "p-value значительно больше уровня значимости. Принятому решению можно смело поверить."
   ]
  }
 ],
 "metadata": {
  "kernelspec": {
   "display_name": "Python 3",
   "language": "python",
   "name": "python3"
  },
  "language_info": {
   "codemirror_mode": {
    "name": "ipython",
    "version": 3
   },
   "file_extension": ".py",
   "mimetype": "text/x-python",
   "name": "python",
   "nbconvert_exporter": "python",
   "pygments_lexer": "ipython3",
   "version": "3.7.3"
  }
 },
 "nbformat": 4,
 "nbformat_minor": 2
}
