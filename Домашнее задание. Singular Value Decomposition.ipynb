{
 "cells": [
  {
   "cell_type": "markdown",
   "metadata": {},
   "source": [
    "### Домашнее задание. Singular Value Decomposition"
   ]
  },
  {
   "cell_type": "markdown",
   "metadata": {},
   "source": [
    "Разложить матрицу в SVD.\n",
    "\n",
    "Цель: Выполнить сингулярное разложение в python и записать получившуюся матрицу преобразования для следующих матриц:\n",
    "\n",
    "1)A=[3 7 5 2] 2)B=[0 1 3 2 3 1 0 1 0] 3)C=[5 7 6 4 2 1 3 4 1 3 3 4 5 4 1]\n",
    "\n",
    "1. Установить набор библиотек Anaconda for Python 3.7: https://www.anaconda.com/distribution/\n",
    "        \n",
    "\n",
    "2. Запустить графическую среду Ipython Notebook (написав в терминале ipython notebook, либо используя графический интерфейс Anaconda)\n",
    "\n",
    "3. Отразить код задания в Ipython Notebook\n",
    "\n",
    "4. Прислать ссылку на репозиторий, в котором будет выложен Ipython Notebook с решением задачи"
   ]
  },
  {
   "cell_type": "markdown",
   "metadata": {},
   "source": [
    "#### Task 1"
   ]
  },
  {
   "cell_type": "code",
   "execution_count": 27,
   "metadata": {},
   "outputs": [],
   "source": [
    "# импортируем нампи\n",
    "import numpy as np"
   ]
  },
  {
   "cell_type": "code",
   "execution_count": 28,
   "metadata": {},
   "outputs": [],
   "source": [
    "# инициализируем массив\n",
    "A = np.array([[3, 7],\n",
    "              [5, 2]])"
   ]
  },
  {
   "cell_type": "code",
   "execution_count": 29,
   "metadata": {},
   "outputs": [
    {
     "data": {
      "text/plain": [
       "(2, 2)"
      ]
     },
     "execution_count": 29,
     "metadata": {},
     "output_type": "execute_result"
    }
   ],
   "source": [
    "# проверяем форму массива\n",
    "A.shape"
   ]
  },
  {
   "cell_type": "code",
   "execution_count": 30,
   "metadata": {},
   "outputs": [],
   "source": [
    "# применяем готовым метод для разложения матрицы\n",
    "u, s, vh = np.linalg.svd(A, full_matrices=True) \n",
    "# If True (default), u and vh have the shapes (..., M, M) and (..., N, N), respectively. \n",
    "# Otherwise, the shapes are (..., M, K) and (..., K, N), respectively, where K = min(M, N).\n",
    "# в нашем случае без разницы"
   ]
  },
  {
   "cell_type": "code",
   "execution_count": 31,
   "metadata": {},
   "outputs": [
    {
     "data": {
      "text/plain": [
       "((2, 2), (2,), (2, 2))"
      ]
     },
     "execution_count": 31,
     "metadata": {},
     "output_type": "execute_result"
    }
   ],
   "source": [
    "# выводим формы получившихся матриц\n",
    "u.shape, s.shape, vh.shape"
   ]
  },
  {
   "cell_type": "code",
   "execution_count": 32,
   "metadata": {},
   "outputs": [
    {
     "data": {
      "text/plain": [
       "True"
      ]
     },
     "execution_count": 32,
     "metadata": {},
     "output_type": "execute_result"
    }
   ],
   "source": [
    "# методом np.allclose проверяем тождественность матрицы А и произведения матриц, полученных при разложении\n",
    "np.allclose(A, np.dot(u * s, vh))"
   ]
  },
  {
   "cell_type": "code",
   "execution_count": 33,
   "metadata": {},
   "outputs": [
    {
     "name": "stdout",
     "output_type": "stream",
     "text": [
      "Ортогональная матрица: \n",
      " [[-0.85065081 -0.52573111]\n",
      " [-0.52573111  0.85065081]] \n",
      "\n",
      "Диагональная матрица (записана в размерности (2,):\n",
      " [8.71337969 3.32821489] \n",
      "\n",
      "Ортогональная матрица: \n",
      " [[-0.59455781 -0.80405286]\n",
      " [ 0.80405286 -0.59455781]]\n"
     ]
    }
   ],
   "source": [
    "# выводим получившиеся матрицы\n",
    "print(\"Ортогональная матрица: \\n\", u, \"\\n\")\n",
    "print(\"Диагональная матрица (записана в размерности (2,):\\n\", s, \"\\n\")\n",
    "print(\"Ортогональная матрица: \\n\", vh)"
   ]
  },
  {
   "cell_type": "markdown",
   "metadata": {},
   "source": [
    "#### Task 2"
   ]
  },
  {
   "cell_type": "code",
   "execution_count": 34,
   "metadata": {},
   "outputs": [
    {
     "data": {
      "text/plain": [
       "array([[0, 1, 3],\n",
       "       [2, 3, 1],\n",
       "       [0, 1, 0]])"
      ]
     },
     "execution_count": 34,
     "metadata": {},
     "output_type": "execute_result"
    }
   ],
   "source": [
    "B = np.array([[0, 1, 3],\n",
    "              [2, 3, 1],\n",
    "             [0, 1, 0]])\n",
    "B"
   ]
  },
  {
   "cell_type": "code",
   "execution_count": 36,
   "metadata": {},
   "outputs": [
    {
     "data": {
      "text/plain": [
       "(3, 3)"
      ]
     },
     "execution_count": 36,
     "metadata": {},
     "output_type": "execute_result"
    }
   ],
   "source": [
    "B.shape"
   ]
  },
  {
   "cell_type": "code",
   "execution_count": 37,
   "metadata": {},
   "outputs": [],
   "source": [
    "u, s, vh = np.linalg.svd(B, full_matrices=True) "
   ]
  },
  {
   "cell_type": "code",
   "execution_count": 38,
   "metadata": {},
   "outputs": [
    {
     "data": {
      "text/plain": [
       "((3, 3), (3,), (3, 3))"
      ]
     },
     "execution_count": 38,
     "metadata": {},
     "output_type": "execute_result"
    }
   ],
   "source": [
    "u.shape, s.shape, vh.shape"
   ]
  },
  {
   "cell_type": "code",
   "execution_count": 39,
   "metadata": {},
   "outputs": [
    {
     "data": {
      "text/plain": [
       "True"
      ]
     },
     "execution_count": 39,
     "metadata": {},
     "output_type": "execute_result"
    }
   ],
   "source": [
    "np.allclose(B, np.dot(u * s, vh))"
   ]
  },
  {
   "cell_type": "code",
   "execution_count": 41,
   "metadata": {},
   "outputs": [
    {
     "name": "stdout",
     "output_type": "stream",
     "text": [
      "Ортогональная матрица: \n",
      " [[-0.56667985  0.82277903  0.04368772]\n",
      " [-0.80674247 -0.54329657 -0.23236915]\n",
      " [-0.16745308 -0.16692366  0.97164601]] \n",
      "\n",
      "Диагональная матрица (записана в размерности (3,):\n",
      " [4.34019342 2.41561763 0.57228713] \n",
      "\n",
      "Ортогональная матрица: \n",
      " [[-0.37175416 -0.72677875 -0.5775738 ]\n",
      " [-0.44982001 -0.40322372  0.79691442]\n",
      " [-0.81207192  0.5560605  -0.17701953]]\n"
     ]
    }
   ],
   "source": [
    "# выводим получившиеся матрицы\n",
    "print(\"Ортогональная матрица: \\n\", u, \"\\n\")\n",
    "print(\"Диагональная матрица (записана в размерности (3,):\\n\", s, \"\\n\")\n",
    "print(\"Ортогональная матрица: \\n\", vh)"
   ]
  },
  {
   "cell_type": "markdown",
   "metadata": {},
   "source": [
    "#### Task 3"
   ]
  },
  {
   "cell_type": "code",
   "execution_count": 83,
   "metadata": {},
   "outputs": [
    {
     "data": {
      "text/plain": [
       "array([[5, 7, 6, 4, 2],\n",
       "       [1, 3, 4, 1, 3],\n",
       "       [3, 4, 5, 4, 1]])"
      ]
     },
     "execution_count": 83,
     "metadata": {},
     "output_type": "execute_result"
    }
   ],
   "source": [
    "C = np.array([[5, 7, 6, 4, 2],\n",
    "              [1, 3, 4, 1, 3],\n",
    "             [3, 4, 5, 4, 1]])\n",
    "C"
   ]
  },
  {
   "cell_type": "code",
   "execution_count": 84,
   "metadata": {},
   "outputs": [
    {
     "data": {
      "text/plain": [
       "(3, 5)"
      ]
     },
     "execution_count": 84,
     "metadata": {},
     "output_type": "execute_result"
    }
   ],
   "source": [
    "C.shape"
   ]
  },
  {
   "cell_type": "code",
   "execution_count": 98,
   "metadata": {},
   "outputs": [],
   "source": [
    "u, s, vh = np.linalg.svd(C, full_matrices=False) "
   ]
  },
  {
   "cell_type": "code",
   "execution_count": 99,
   "metadata": {},
   "outputs": [
    {
     "data": {
      "text/plain": [
       "((3, 3), (3,), (3, 5))"
      ]
     },
     "execution_count": 99,
     "metadata": {},
     "output_type": "execute_result"
    }
   ],
   "source": [
    "u.shape, s.shape, vh.shape"
   ]
  },
  {
   "cell_type": "code",
   "execution_count": 100,
   "metadata": {},
   "outputs": [
    {
     "data": {
      "text/plain": [
       "True"
      ]
     },
     "execution_count": 100,
     "metadata": {},
     "output_type": "execute_result"
    }
   ],
   "source": [
    "np.allclose(C, np.dot(u * s, vh[:3, :]))"
   ]
  },
  {
   "cell_type": "code",
   "execution_count": 101,
   "metadata": {},
   "outputs": [
    {
     "name": "stdout",
     "output_type": "stream",
     "text": [
      "Ортогональная матрица: \n",
      " [[-0.75927897  0.23445293 -0.60706446]\n",
      " [-0.3639706  -0.92629427  0.09749016]\n",
      " [-0.53946348  0.29497584  0.78864974]] \n",
      "\n",
      "Диагональная матрица (записана в размерности (3,):\n",
      " [14.94713352  2.72739944  1.46440832] \n",
      "\n",
      "Ортогональная матрица: \n",
      " [[-0.38661298 -0.57300074 -0.58264507 -0.37190679 -0.21073828]\n",
      " [ 0.41464331  0.01546935 -0.3019654   0.43683401 -0.73879941]\n",
      " [-0.39052151 -0.5479222   0.47174175  0.56256936 -0.09082761]]\n"
     ]
    }
   ],
   "source": [
    "# выводим получившиеся матрицы\n",
    "print(\"Ортогональная матрица: \\n\", u, \"\\n\")\n",
    "print(\"Диагональная матрица (записана в размерности (3,):\\n\", s, \"\\n\")\n",
    "print(\"Ортогональная матрица: \\n\", vh)"
   ]
  },
  {
   "cell_type": "code",
   "execution_count": null,
   "metadata": {},
   "outputs": [],
   "source": []
  }
 ],
 "metadata": {
  "kernelspec": {
   "display_name": "Python 3",
   "language": "python",
   "name": "python3"
  },
  "language_info": {
   "codemirror_mode": {
    "name": "ipython",
    "version": 3
   },
   "file_extension": ".py",
   "mimetype": "text/x-python",
   "name": "python",
   "nbconvert_exporter": "python",
   "pygments_lexer": "ipython3",
   "version": "3.7.3"
  }
 },
 "nbformat": 4,
 "nbformat_minor": 2
}
